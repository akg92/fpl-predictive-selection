{
 "cells": [
  {
   "cell_type": "code",
   "execution_count": 1,
   "metadata": {},
   "outputs": [],
   "source": [
    "\n",
    "from sklearn.model_selection import GridSearchCV\n",
    "from xgboost import XGBRegressor\n",
    "from sklearn.model_selection import train_test_split\n",
    "import pandas as pd\n",
    "from sklearn.metrics import mean_squared_error"
   ]
  },
  {
   "cell_type": "code",
   "execution_count": 2,
   "metadata": {},
   "outputs": [],
   "source": [
    "# run xgboost \n",
    "def tree_train(x,y):\n",
    "    parameters = {\"max_depth\":[3,4,5,6,7,8,9], \"min_child_weight\":[1,2,3]}\n",
    "    model = XGBRegressor()\n",
    "    gs = GridSearchCV(model,param_grid=parameters,cv=10)\n",
    "    gs.fit(x,y)\n",
    "    return gs\n",
    "\n",
    "\n",
    "\n"
   ]
  },
  {
   "cell_type": "code",
   "execution_count": 18,
   "metadata": {},
   "outputs": [],
   "source": [
    "years = []\n",
    "cur_year = '2018/19'\n",
    "def is_next_year(first,second):\n",
    "    print(first)\n",
    "    yy1 = first.split('/')[1]\n",
    "    yy2 = second.split('/')[0][2:]\n",
    "    return yy1 == yy2"
   ]
  },
  {
   "cell_type": "code",
   "execution_count": 58,
   "metadata": {},
   "outputs": [],
   "source": [
    "def read_data(file_name='../fpl_data/data/player_history.csv'):\n",
    "    global years\n",
    "    clean_df = pd.read_csv(file_name,encoding = \"ISO-8859-1\")\n",
    "    years = list(clean_df['season'].unique())\n",
    "    year_id = clean_df[['id','total_points','season']]\n",
    "    year_id['total_points_next'] =year_id['total_points']\n",
    "    year_id['season_next'] = year_id['season']\n",
    "    year_id.drop(['total_points','season'],axis=1,inplace=True)\n",
    "    clean_df = pd.merge(clean_df, year_id,on='id') \n",
    "    \n",
    "    def is_keep(years):\n",
    "\n",
    "        first =  years['season']\n",
    "        second = years['season_next']\n",
    "        return first-second-1\n",
    "    clean_df['keep'] = clean_df.apply(is_keep,axis=1)\n",
    "    #print(clean_df['keep'])\n",
    "    clean_df = clean_df.query('keep==0')\n",
    "    clean_df.drop('keep',axis=1,inplace=True)\n",
    "    \n",
    "    \n",
    "    return clean_df"
   ]
  },
  {
   "cell_type": "code",
   "execution_count": 59,
   "metadata": {},
   "outputs": [
    {
     "name": "stderr",
     "output_type": "stream",
     "text": [
      "/home/shibin/softwares/anaconda2/envs/aiproject/lib/python3.6/site-packages/ipykernel_launcher.py:6: SettingWithCopyWarning: \n",
      "A value is trying to be set on a copy of a slice from a DataFrame.\n",
      "Try using .loc[row_indexer,col_indexer] = value instead\n",
      "\n",
      "See the caveats in the documentation: http://pandas.pydata.org/pandas-docs/stable/indexing.html#indexing-view-versus-copy\n",
      "  \n",
      "/home/shibin/softwares/anaconda2/envs/aiproject/lib/python3.6/site-packages/ipykernel_launcher.py:7: SettingWithCopyWarning: \n",
      "A value is trying to be set on a copy of a slice from a DataFrame.\n",
      "Try using .loc[row_indexer,col_indexer] = value instead\n",
      "\n",
      "See the caveats in the documentation: http://pandas.pydata.org/pandas-docs/stable/indexing.html#indexing-view-versus-copy\n",
      "  import sys\n",
      "/home/shibin/softwares/anaconda2/envs/aiproject/lib/python3.6/site-packages/pandas/core/frame.py:3697: SettingWithCopyWarning: \n",
      "A value is trying to be set on a copy of a slice from a DataFrame\n",
      "\n",
      "See the caveats in the documentation: http://pandas.pydata.org/pandas-docs/stable/indexing.html#indexing-view-versus-copy\n",
      "  errors=errors)\n"
     ]
    }
   ],
   "source": [
    "df_summary = read_data()"
   ]
  },
  {
   "cell_type": "code",
   "execution_count": 60,
   "metadata": {},
   "outputs": [
    {
     "data": {
      "text/plain": [
       "(1227, 31)"
      ]
     },
     "execution_count": 60,
     "metadata": {},
     "output_type": "execute_result"
    }
   ],
   "source": [
    "df_summary.shape"
   ]
  },
  {
   "cell_type": "markdown",
   "metadata": {},
   "source": [
    "# Create train and test data. Data sample is less"
   ]
  },
  {
   "cell_type": "code",
   "execution_count": 113,
   "metadata": {},
   "outputs": [],
   "source": [
    "\n",
    "def split_t_t(df):\n",
    "    cur_season = 11\n",
    "    train_df = df.query('season<11')\n",
    "    test_df = df.query('season==11')\n",
    "    return train_df,test_df\n",
    "def clean_data(x,cols):\n",
    "    unwanted_cols = ['first_name','second_name','total_points_next','season','season_name','id','season_next']\n",
    "    for c in list(x):\n",
    "        if c not in cols:\n",
    "            unwanted_cols.append(c)\n",
    "    return x.drop(unwanted_cols,axis=1)"
   ]
  },
  {
   "cell_type": "code",
   "execution_count": 114,
   "metadata": {},
   "outputs": [],
   "source": [
    "train_df,test_df = split_t_t(df_summary)\n",
    "train_y =train_df['total_points_next']\n",
    "test_y = test_df['total_points_next']\n",
    "test_x = clean_data(test_df,list(test_df))\n",
    "train_x = clean_data(train_df,list(train_df))\n",
    "\n",
    "#print(list(train_x))"
   ]
  },
  {
   "cell_type": "code",
   "execution_count": 115,
   "metadata": {},
   "outputs": [
    {
     "data": {
      "text/plain": [
       "['yellow_cards',\n",
       " 'goals_conceded',\n",
       " 'saves',\n",
       " 'influence',\n",
       " 'goals_scored',\n",
       " 'own_goals',\n",
       " 'creativity',\n",
       " 'end_cost',\n",
       " 'ict_index',\n",
       " 'total_points',\n",
       " 'penalties_missed',\n",
       " 'start_cost',\n",
       " 'element_code',\n",
       " 'bonus',\n",
       " 'clean_sheets',\n",
       " 'assists',\n",
       " 'ea_index',\n",
       " 'penalties_saved',\n",
       " 'minutes',\n",
       " 'bps',\n",
       " 'element_type',\n",
       " 'threat',\n",
       " 'team',\n",
       " 'red_cards']"
      ]
     },
     "execution_count": 115,
     "metadata": {},
     "output_type": "execute_result"
    }
   ],
   "source": [
    "list(train_x)"
   ]
  },
  {
   "cell_type": "markdown",
   "metadata": {},
   "source": [
    "# Run training"
   ]
  },
  {
   "cell_type": "code",
   "execution_count": 116,
   "metadata": {},
   "outputs": [
    {
     "name": "stderr",
     "output_type": "stream",
     "text": [
      "/home/shibin/softwares/anaconda2/envs/aiproject/lib/python3.6/site-packages/sklearn/model_selection/_search.py:841: DeprecationWarning: The default of the `iid` parameter will change from True to False in version 0.22 and will be removed in 0.24. This will change numeric results when test-set sizes are unequal.\n",
      "  DeprecationWarning)\n"
     ]
    }
   ],
   "source": [
    "clf = tree_train(train_x,train_y)"
   ]
  },
  {
   "cell_type": "code",
   "execution_count": 117,
   "metadata": {},
   "outputs": [],
   "source": [
    "prediction = clf.predict(test_x)"
   ]
  },
  {
   "cell_type": "code",
   "execution_count": 118,
   "metadata": {},
   "outputs": [],
   "source": [
    "error = mean_squared_error(prediction,test_y)"
   ]
  },
  {
   "cell_type": "code",
   "execution_count": 119,
   "metadata": {},
   "outputs": [
    {
     "name": "stdout",
     "output_type": "stream",
     "text": [
      "997.6710287478684\n"
     ]
    }
   ],
   "source": [
    "print(error)"
   ]
  },
  {
   "cell_type": "code",
   "execution_count": 120,
   "metadata": {},
   "outputs": [],
   "source": [
    "def write_result(test_x,test_y,predicted,file='next_year.csv'):\n",
    "    first_name =test_x['first_name']\n",
    "    second_name = test_x['second_name']\n",
    "    df = pd.DataFrame()\n",
    "    df['first_name'] = first_name\n",
    "    df['second_name'] = second_name\n",
    "    df['actual'] = test_y\n",
    "    df['predicted'] = predicted\n",
    "    df['element_type'] = test_x['element_type']\n",
    "    df['diff'] = (df['actual']-df['predicted']).abs()\n",
    "    df.to_csv(file,index=False)\n",
    "    return df\n",
    "    "
   ]
  },
  {
   "cell_type": "code",
   "execution_count": 121,
   "metadata": {},
   "outputs": [],
   "source": [
    "final_combined = write_result(test_df,test_y,prediction)"
   ]
  },
  {
   "cell_type": "markdown",
   "metadata": {},
   "source": [
    "# Get players"
   ]
  },
  {
   "cell_type": "code",
   "execution_count": 122,
   "metadata": {},
   "outputs": [],
   "source": [
    "def select_players(df):\n",
    "    df = df.sort_values(by=['predicted'],ascending=False)\n",
    "    result = [[] for x in range(4)]\n",
    "    required = [2,5,5,3]\n",
    "    for index,row in df.iterrows():\n",
    "        f_name = row['first_name']\n",
    "        s_name = row['second_name']\n",
    "        pred = row['predicted']\n",
    "        actual = row['actual']\n",
    "        e_index = int(row['element_type'])-1\n",
    "        if(len(result[e_index])<required[e_index]):\n",
    "            item = {}\n",
    "            item['first_name'] =f_name\n",
    "            item['second_name'] =  s_name\n",
    "            item['prediction'] = pred\n",
    "            item['actual'] = actual\n",
    "            #itemp['element_type'] = row['element_type']\n",
    "            \n",
    "            result[e_index].append(item)     \n",
    "    return result\n",
    "\n",
    "def actual_players(df):\n",
    "    df = df.sort_values(by=['actual'],ascending=False)\n",
    "    result = [[] for x in range(4)]\n",
    "    required = [2,5,5,3]\n",
    "    for index,row in df.iterrows():\n",
    "        f_name = row['first_name']\n",
    "        s_name = row['second_name']\n",
    "        pred = row['predicted']\n",
    "        actual = row['actual']\n",
    "        e_index = int(row['element_type'])-1\n",
    "        if(len(result[e_index])<required[e_index]):\n",
    "            item = {}\n",
    "            item['first_name'] =f_name\n",
    "            item['second_name'] =  s_name\n",
    "            item['prediction'] = pred\n",
    "            item['actual'] = actual\n",
    "            #itemp['element_type'] = row['element_type']\n",
    "            \n",
    "            result[e_index].append(item)     \n",
    "    return result\n",
    "def print_result(result):\n",
    "    types = ['Goali','Defender','Mid','Attacker']\n",
    "    for i in range(len(result)):\n",
    "        print('==================SELECTED {}==================='.format(types[i]))\n",
    "        for player in result[i]:\n",
    "            print('{},{}\\t\\t\\t,{},\\t{}\\n'.format(player['first_name'],player['second_name'],player['prediction'],player['actual']))\n",
    "            \n"
   ]
  },
  {
   "cell_type": "code",
   "execution_count": 123,
   "metadata": {},
   "outputs": [],
   "source": [
    "s_list = select_players(final_combined)\n",
    "a_list =  actual_players(final_combined)"
   ]
  },
  {
   "cell_type": "markdown",
   "metadata": {},
   "source": [
    "# Selected by prediction"
   ]
  },
  {
   "cell_type": "code",
   "execution_count": 124,
   "metadata": {},
   "outputs": [
    {
     "name": "stdout",
     "output_type": "stream",
     "text": [
      "==================SELECTED Goali===================\n",
      "Heurelho,Gomes\t\t\t,134.01930236816406,\t157\n",
      "\n",
      "Petr,Cech\t\t\t,130.5564422607422,\t159\n",
      "\n",
      "==================SELECTED Defender===================\n",
      "Leighton,Baines\t\t\t,133.3016357421875,\t67\n",
      "\n",
      "Toby,Alderweireld\t\t\t,112.4158706665039,\t166\n",
      "\n",
      "Gary,Cahill\t\t\t,110.19263458251953,\t53\n",
      "\n",
      "NicolÃ¡s,Otamendi\t\t\t,109.75376892089844,\t104\n",
      "\n",
      "Laurent,Koscielny\t\t\t,108.62327575683594,\t153\n",
      "\n",
      "==================SELECTED Mid===================\n",
      "Riyad,Mahrez\t\t\t,194.32177734375,\t240\n",
      "\n",
      "Mesut,Ãzil\t\t\t,183.43150329589844,\t200\n",
      "\n",
      "Kevin,De Bruyne\t\t\t,175.80723571777344,\t131\n",
      "\n",
      "Alexis,SÃ¡nchez\t\t\t,168.58709716796875,\t167\n",
      "\n",
      "Eden,Hazard\t\t\t,163.53981018066406,\t104\n",
      "\n",
      "==================SELECTED Attacker===================\n",
      "Jamie,Vardy\t\t\t,192.6436004638672,\t211\n",
      "\n",
      "Sergio,AgÃ¼ero\t\t\t,171.1587677001953,\t184\n",
      "\n",
      "Roberto,Firmino\t\t\t,163.55015563964844,\t155\n",
      "\n"
     ]
    }
   ],
   "source": [
    "print_result(s_list)"
   ]
  },
  {
   "cell_type": "markdown",
   "metadata": {},
   "source": [
    "# Actual  Performance"
   ]
  },
  {
   "cell_type": "code",
   "execution_count": 125,
   "metadata": {},
   "outputs": [
    {
     "name": "stdout",
     "output_type": "stream",
     "text": [
      "==================SELECTED Goali===================\n",
      "Petr,Cech\t\t\t,130.5564422607422,\t159\n",
      "\n",
      "Heurelho,Gomes\t\t\t,134.01930236816406,\t157\n",
      "\n",
      "==================SELECTED Defender===================\n",
      "HÃ©ctor,BellerÃ­n\t\t\t,106.08972930908203,\t172\n",
      "\n",
      "Toby,Alderweireld\t\t\t,112.4158706665039,\t166\n",
      "\n",
      "Laurent,Koscielny\t\t\t,108.62327575683594,\t153\n",
      "\n",
      "Nacho,Monreal\t\t\t,106.56748962402344,\t152\n",
      "\n",
      "Christian,Fuchs\t\t\t,106.10931396484375,\t150\n",
      "\n",
      "==================SELECTED Mid===================\n",
      "Riyad,Mahrez\t\t\t,194.32177734375,\t240\n",
      "\n",
      "Mesut,Ãzil\t\t\t,183.43150329589844,\t200\n",
      "\n",
      "Christian,Eriksen\t\t\t,137.55416870117188,\t178\n",
      "\n",
      "Georginio,Wijnaldum\t\t\t,122.26779174804688,\t170\n",
      "\n",
      "Alexis,SÃ¡nchez\t\t\t,168.58709716796875,\t167\n",
      "\n",
      "==================SELECTED Attacker===================\n",
      "Jamie,Vardy\t\t\t,192.6436004638672,\t211\n",
      "\n",
      "Harry,Kane\t\t\t,155.7584991455078,\t211\n",
      "\n",
      "Romelu,Lukaku\t\t\t,146.43580627441406,\t185\n",
      "\n"
     ]
    }
   ],
   "source": [
    "print_result(a_list)"
   ]
  },
  {
   "cell_type": "code",
   "execution_count": 127,
   "metadata": {},
   "outputs": [
    {
     "name": "stdout",
     "output_type": "stream",
     "text": [
      "==================SELECTED Goali===================\n",
      "Heurelho,Gomes\t\t\t,134.01930236816406,\t157\n",
      "\n",
      "Petr,Cech\t\t\t,130.5564422607422,\t159\n",
      "\n",
      "==================SELECTED Defender===================\n",
      "Leighton,Baines\t\t\t,133.3016357421875,\t67\n",
      "\n",
      "Toby,Alderweireld\t\t\t,112.4158706665039,\t166\n",
      "\n",
      "Gary,Cahill\t\t\t,110.19263458251953,\t53\n",
      "\n",
      "NicolÃ¡s,Otamendi\t\t\t,109.75376892089844,\t104\n",
      "\n",
      "Laurent,Koscielny\t\t\t,108.62327575683594,\t153\n",
      "\n",
      "==================SELECTED Mid===================\n",
      "Riyad,Mahrez\t\t\t,194.32177734375,\t240\n",
      "\n",
      "Mesut,Ãzil\t\t\t,183.43150329589844,\t200\n",
      "\n",
      "Kevin,De Bruyne\t\t\t,175.80723571777344,\t131\n",
      "\n",
      "Alexis,SÃ¡nchez\t\t\t,168.58709716796875,\t167\n",
      "\n",
      "Eden,Hazard\t\t\t,163.53981018066406,\t104\n",
      "\n",
      "==================SELECTED Attacker===================\n",
      "Jamie,Vardy\t\t\t,192.6436004638672,\t211\n",
      "\n",
      "Sergio,AgÃ¼ero\t\t\t,171.1587677001953,\t184\n",
      "\n",
      "Roberto,Firmino\t\t\t,163.55015563964844,\t155\n",
      "\n"
     ]
    }
   ],
   "source": [
    "print_result(s_list)"
   ]
  },
  {
   "cell_type": "code",
   "execution_count": null,
   "metadata": {},
   "outputs": [],
   "source": []
  }
 ],
 "metadata": {
  "kernelspec": {
   "display_name": "Python 3",
   "language": "python",
   "name": "python3"
  },
  "language_info": {
   "codemirror_mode": {
    "name": "ipython",
    "version": 3
   },
   "file_extension": ".py",
   "mimetype": "text/x-python",
   "name": "python",
   "nbconvert_exporter": "python",
   "pygments_lexer": "ipython3",
   "version": "3.6.6"
  }
 },
 "nbformat": 4,
 "nbformat_minor": 2
}
