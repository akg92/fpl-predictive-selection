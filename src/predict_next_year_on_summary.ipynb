{
 "cells": [
  {
   "cell_type": "code",
   "execution_count": 209,
   "metadata": {},
   "outputs": [],
   "source": [
    "\n",
    "from sklearn.model_selection import GridSearchCV\n",
    "from xgboost import XGBRegressor\n",
    "from sklearn.model_selection import train_test_split\n",
    "import pandas as pd\n",
    "from sklearn.metrics import mean_squared_error\n",
    "import numpy as np"
   ]
  },
  {
   "cell_type": "code",
   "execution_count": 161,
   "metadata": {},
   "outputs": [],
   "source": [
    "# run xgboost \n",
    "def tree_train(x,y):\n",
    "    parameters = {\"max_depth\":[3,4,5,6,7,8,9], \"min_child_weight\":[1,2,3]}\n",
    "    model = XGBRegressor()\n",
    "    gs = GridSearchCV(model,param_grid=parameters,cv=10)\n",
    "    gs.fit(x,y)\n",
    "    return gs\n",
    "\n",
    "\n",
    "\n"
   ]
  },
  {
   "cell_type": "code",
   "execution_count": 162,
   "metadata": {},
   "outputs": [],
   "source": [
    "years = []\n",
    "cur_year = '2018/19'\n",
    "def is_next_year(first,second):\n",
    "    print(first)\n",
    "    yy1 = first.split('/')[1]\n",
    "    yy2 = second.split('/')[0][2:]\n",
    "    return yy1 == yy2"
   ]
  },
  {
   "cell_type": "code",
   "execution_count": 186,
   "metadata": {},
   "outputs": [],
   "source": [
    "def read_data(file_name='../fpl_data/data/player_history.csv'):\n",
    "    global years\n",
    "    clean_df = pd.read_csv(file_name,encoding = \"ISO-8859-1\")\n",
    "    years = list(clean_df['season'].unique())\n",
    "    year_id = clean_df[['id','total_points','season']]\n",
    "    year_id['total_points_next'] =year_id['total_points']\n",
    "    year_id['season_next'] = year_id['season']\n",
    "    year_id = year_id.drop(['total_points','season'],axis=1)\n",
    "    clean_df = pd.merge(clean_df, year_id,on='id') \n",
    "    \n",
    "    def is_keep(years):\n",
    "\n",
    "        first =  years['season']\n",
    "        second = years['season_next']\n",
    "        return first-second-1\n",
    "    clean_df['keep'] = clean_df.apply(is_keep,axis=1)\n",
    "    #print(clean_df['keep'])\n",
    "    clean_df = clean_df.query('keep==0')\n",
    "    clean_df.drop('keep',axis=1,inplace=True)\n",
    "    \n",
    "    \n",
    "    return clean_df"
   ]
  },
  {
   "cell_type": "code",
   "execution_count": 187,
   "metadata": {},
   "outputs": [
    {
     "name": "stderr",
     "output_type": "stream",
     "text": [
      "/home/shibin/softwares/anaconda2/envs/aiproject/lib/python3.6/site-packages/ipykernel_launcher.py:6: SettingWithCopyWarning: \n",
      "A value is trying to be set on a copy of a slice from a DataFrame.\n",
      "Try using .loc[row_indexer,col_indexer] = value instead\n",
      "\n",
      "See the caveats in the documentation: http://pandas.pydata.org/pandas-docs/stable/indexing.html#indexing-view-versus-copy\n",
      "  \n",
      "/home/shibin/softwares/anaconda2/envs/aiproject/lib/python3.6/site-packages/ipykernel_launcher.py:7: SettingWithCopyWarning: \n",
      "A value is trying to be set on a copy of a slice from a DataFrame.\n",
      "Try using .loc[row_indexer,col_indexer] = value instead\n",
      "\n",
      "See the caveats in the documentation: http://pandas.pydata.org/pandas-docs/stable/indexing.html#indexing-view-versus-copy\n",
      "  import sys\n",
      "/home/shibin/softwares/anaconda2/envs/aiproject/lib/python3.6/site-packages/pandas/core/frame.py:3697: SettingWithCopyWarning: \n",
      "A value is trying to be set on a copy of a slice from a DataFrame\n",
      "\n",
      "See the caveats in the documentation: http://pandas.pydata.org/pandas-docs/stable/indexing.html#indexing-view-versus-copy\n",
      "  errors=errors)\n"
     ]
    }
   ],
   "source": [
    "df_summary = read_data()"
   ]
  },
  {
   "cell_type": "code",
   "execution_count": 188,
   "metadata": {},
   "outputs": [
    {
     "data": {
      "text/plain": [
       "(1227, 31)"
      ]
     },
     "execution_count": 188,
     "metadata": {},
     "output_type": "execute_result"
    }
   ],
   "source": [
    "df_summary.shape"
   ]
  },
  {
   "cell_type": "markdown",
   "metadata": {},
   "source": [
    "# Create train and test data. Data sample is less"
   ]
  },
  {
   "cell_type": "code",
   "execution_count": 189,
   "metadata": {},
   "outputs": [],
   "source": [
    "\n",
    "def split_t_t(df):\n",
    "    cur_season = 11\n",
    "    train_df = df.query('season<11')\n",
    "    test_df = df.query('season==11')\n",
    "    return train_df,test_df\n",
    "def clean_data(x,cols):\n",
    "    unwanted_cols = ['first_name','second_name','total_points_next','season','season_name','id','season_next']\n",
    "    for c in list(x):\n",
    "        if c not in cols:\n",
    "            unwanted_cols.append(c)\n",
    "    return x.drop(unwanted_cols,axis=1)"
   ]
  },
  {
   "cell_type": "code",
   "execution_count": 211,
   "metadata": {},
   "outputs": [],
   "source": [
    "train_df,test_df = split_t_t(df_summary)\n",
    "train_y =train_df['total_points_next']\n",
    "test_y = test_df['total_points_next']\n",
    "test_x = clean_data(test_df,list(test_df))\n",
    "train_x = clean_data(train_df,list(train_df))\n",
    "\n",
    "#print(list(train_x))"
   ]
  },
  {
   "cell_type": "code",
   "execution_count": 191,
   "metadata": {
    "scrolled": true
   },
   "outputs": [
    {
     "data": {
      "text/plain": [
       "['yellow_cards',\n",
       " 'goals_conceded',\n",
       " 'saves',\n",
       " 'influence',\n",
       " 'goals_scored',\n",
       " 'own_goals',\n",
       " 'creativity',\n",
       " 'end_cost',\n",
       " 'ict_index',\n",
       " 'total_points',\n",
       " 'penalties_missed',\n",
       " 'start_cost',\n",
       " 'element_code',\n",
       " 'bonus',\n",
       " 'clean_sheets',\n",
       " 'assists',\n",
       " 'ea_index',\n",
       " 'penalties_saved',\n",
       " 'minutes',\n",
       " 'bps',\n",
       " 'element_type',\n",
       " 'threat',\n",
       " 'team',\n",
       " 'red_cards']"
      ]
     },
     "execution_count": 191,
     "metadata": {},
     "output_type": "execute_result"
    }
   ],
   "source": [
    "list(train_x)"
   ]
  },
  {
   "cell_type": "markdown",
   "metadata": {},
   "source": [
    "# Run training"
   ]
  },
  {
   "cell_type": "code",
   "execution_count": 192,
   "metadata": {},
   "outputs": [
    {
     "name": "stderr",
     "output_type": "stream",
     "text": [
      "/home/shibin/softwares/anaconda2/envs/aiproject/lib/python3.6/site-packages/sklearn/model_selection/_search.py:841: DeprecationWarning: The default of the `iid` parameter will change from True to False in version 0.22 and will be removed in 0.24. This will change numeric results when test-set sizes are unequal.\n",
      "  DeprecationWarning)\n"
     ]
    }
   ],
   "source": [
    "clf = tree_train(train_x,train_y)"
   ]
  },
  {
   "cell_type": "code",
   "execution_count": 193,
   "metadata": {},
   "outputs": [],
   "source": [
    "prediction = clf.predict(test_x)"
   ]
  },
  {
   "cell_type": "code",
   "execution_count": 194,
   "metadata": {},
   "outputs": [],
   "source": [
    "error = mean_squared_error(prediction,test_y)"
   ]
  },
  {
   "cell_type": "code",
   "execution_count": 199,
   "metadata": {},
   "outputs": [
    {
     "name": "stdout",
     "output_type": "stream",
     "text": [
      "997.6710287478684\n",
      "129      159\n",
      "197      153\n",
      "225      172\n",
      "260      152\n",
      "328      200\n",
      "423      119\n",
      "439       42\n",
      "448       25\n",
      "559       48\n",
      "698       55\n",
      "739      108\n",
      "751       89\n",
      "760      114\n",
      "769      130\n",
      "792       84\n",
      "803        1\n",
      "836       73\n",
      "849       66\n",
      "894       90\n",
      "931       65\n",
      "1009      86\n",
      "1048      61\n",
      "1072      46\n",
      "1091      98\n",
      "1227     138\n",
      "1581      20\n",
      "1625     111\n",
      "1660      83\n",
      "1722      87\n",
      "1772      79\n",
      "        ... \n",
      "9465     157\n",
      "9584      72\n",
      "9625      96\n",
      "9637      59\n",
      "9646      25\n",
      "9655      57\n",
      "9674      79\n",
      "9720       3\n",
      "9810      77\n",
      "9838      72\n",
      "9864      82\n",
      "9878     166\n",
      "9902       0\n",
      "10038     56\n",
      "10078    125\n",
      "10193    123\n",
      "10246     68\n",
      "10265    133\n",
      "10275     76\n",
      "10284      7\n",
      "10377     41\n",
      "10403     11\n",
      "10530    133\n",
      "10547     36\n",
      "10556    100\n",
      "10571    126\n",
      "10599    165\n",
      "10714     90\n",
      "10865      6\n",
      "11000     15\n",
      "Name: total_points_next, Length: 222, dtype: int64\n"
     ]
    }
   ],
   "source": [
    "print(error)"
   ]
  },
  {
   "cell_type": "code",
   "execution_count": 196,
   "metadata": {},
   "outputs": [],
   "source": [
    "def write_result(test_x,test_y,predicted,file='next_year.csv'):\n",
    "    first_name =test_x['first_name']\n",
    "    second_name = test_x['second_name']\n",
    "    df = pd.DataFrame()\n",
    "    df['first_name'] = first_name\n",
    "    df['second_name'] = second_name\n",
    "    df['actual'] = test_y\n",
    "    df['predicted'] = predicted\n",
    "    df['element_type'] = test_x['element_type']\n",
    "    df['diff'] = (df['actual']-df['predicted']).abs()\n",
    "    df.to_csv(file,index=False)\n",
    "    return df\n",
    "    "
   ]
  },
  {
   "cell_type": "code",
   "execution_count": 200,
   "metadata": {},
   "outputs": [
    {
     "name": "stdout",
     "output_type": "stream",
     "text": [
      "      first_name              second_name  actual   predicted  element_type  \\\n",
      "129         Petr                     Cech     159  130.556442             1   \n",
      "197      Laurent                Koscielny     153  108.623276             2   \n",
      "225      HÃ©ctor                BellerÃ­n     172  106.089729             2   \n",
      "260        Nacho                  Monreal     152  106.567490             2   \n",
      "328        Mesut                    Ãzil     200  183.431503             3   \n",
      "423        Aaron                   Ramsey     119  104.530502             3   \n",
      "439         Alex                    Iwobi      42   68.547302             3   \n",
      "448      Mohamed                   Elneny      25   26.442635             3   \n",
      "559        Danny                  Welbeck      48   74.822433             4   \n",
      "698        Asmir                  Begovic      55   17.216255             1   \n",
      "739        Artur                    Boruc     108   71.865082             1   \n",
      "751        Simon                  Francis      89   54.805244             2   \n",
      "760        Steve                     Cook     114  102.635643             2   \n",
      "769      Charlie                  Daniels     130   76.070671             2   \n",
      "792         Adam                    Smith      84   58.668720             2   \n",
      "803       Tyrone                    Mings       1    5.927014             2   \n",
      "836       Nathan                     AkÃ©      73   15.770068             2   \n",
      "849         Marc                     Pugh      66   57.898705             3   \n",
      "894       Andrew                   Surman      90   70.240234             3   \n",
      "931       Junior                Stanislas      65   65.514511             3   \n",
      "1009         Dan                  Gosling      86   69.442688             3   \n",
      "1048      Jordon                      Ibe      61   59.112373             3   \n",
      "1072      Callum                   Wilson      46   65.568008             4   \n",
      "1091      Joshua                     King      98   84.643822             4   \n",
      "1227     Jermain                    Defoe     138  122.281143             4   \n",
      "1581        Phil                 Bardsley      20   53.521793             2   \n",
      "1625      Robbie                    Brady     111   69.718941             3   \n",
      "1660      Ashley                 Westwood      83   18.817453             3   \n",
      "1722    Jonathan                  Walters      87   86.038017             3   \n",
      "1772        Jack                     Cork      79   64.707375             3   \n",
      "...          ...                      ...     ...         ...           ...   \n",
      "9465    Heurelho                    Gomes     157  134.019302             1   \n",
      "9584      Younes                   Kaboul      72   49.833523             2   \n",
      "9625       Craig                 Cathcart      96   40.358192             2   \n",
      "9637   Sebastian                   PrÃ¶dl      59   53.897095             2   \n",
      "9646       JosÃ©                  Holebas      25   54.961006             2   \n",
      "9655      Miguel                   Britos      57   48.657135             2   \n",
      "9674       Daryl                  Janmaat      79   60.225174             2   \n",
      "9720      Adrian                 Mariappa       3   26.875992             2   \n",
      "9810         Tom                Cleverley      77   79.773445             3   \n",
      "9838     Etienne                   Capoue      72   47.983742             3   \n",
      "9864      Gerard                 Deulofeu      82   67.515167             3   \n",
      "9878        Troy                   Deeney     166  121.406723             4   \n",
      "9902      Jerome                 Sinclair       0    8.402447             4   \n",
      "10038        Ben                   Foster      56  106.123741             1   \n",
      "10078    AdriÃ¡n  San Miguel del Castillo     125   76.141289             1   \n",
      "10193     Lukasz                Fabianski     123  125.672981             1   \n",
      "10246    Winston                     Reid      68   88.423248             2   \n",
      "10265      Aaron                Cresswell     133   86.587059             2   \n",
      "10275     Angelo                  Ogbonna      76   76.267563             2   \n",
      "10284        Sam                    Byram       7   37.084686             2   \n",
      "10377      Pablo                 Zabaleta      41   57.048737             2   \n",
      "10403      Reece                   Oxford      11    1.790275             2   \n",
      "10530       Mark                    Noble     133  118.192070             3   \n",
      "10547      Pedro                   Obiang      36   41.761486             3   \n",
      "10556     Manuel                  Lanzini     100  112.809975             3   \n",
      "10571    Michail                  Antonio     126   97.888092             3   \n",
      "10599      Marko               Arnautovic     165  117.159676             4   \n",
      "10714       Andy                  Carroll      90   68.588364             4   \n",
      "10865       Jack                 Wilshere       6   86.725212             3   \n",
      "11000      Adama                  TraorÃ©      15   55.637268             3   \n",
      "\n",
      "            diff  \n",
      "129    28.443558  \n",
      "197    44.376724  \n",
      "225    65.910271  \n",
      "260    45.432510  \n",
      "328    16.568497  \n",
      "423    14.469498  \n",
      "439    26.547302  \n",
      "448     1.442635  \n",
      "559    26.822433  \n",
      "698    37.783745  \n",
      "739    36.134918  \n",
      "751    34.194756  \n",
      "760    11.364357  \n",
      "769    53.929329  \n",
      "792    25.331280  \n",
      "803     4.927014  \n",
      "836    57.229932  \n",
      "849     8.101295  \n",
      "894    19.759766  \n",
      "931     0.514511  \n",
      "1009   16.557312  \n",
      "1048    1.887627  \n",
      "1072   19.568008  \n",
      "1091   13.356178  \n",
      "1227   15.718857  \n",
      "1581   33.521793  \n",
      "1625   41.281059  \n",
      "1660   64.182547  \n",
      "1722    0.961983  \n",
      "1772   14.292625  \n",
      "...          ...  \n",
      "9465   22.980698  \n",
      "9584   22.166477  \n",
      "9625   55.641808  \n",
      "9637    5.102905  \n",
      "9646   29.961006  \n",
      "9655    8.342865  \n",
      "9674   18.774826  \n",
      "9720   23.875992  \n",
      "9810    2.773445  \n",
      "9838   24.016258  \n",
      "9864   14.484833  \n",
      "9878   44.593277  \n",
      "9902    8.402447  \n",
      "10038  50.123741  \n",
      "10078  48.858711  \n",
      "10193   2.672981  \n",
      "10246  20.423248  \n",
      "10265  46.412941  \n",
      "10275   0.267563  \n",
      "10284  30.084686  \n",
      "10377  16.048737  \n",
      "10403   9.209725  \n",
      "10530  14.807930  \n",
      "10547   5.761486  \n",
      "10556  12.809975  \n",
      "10571  28.111908  \n",
      "10599  47.840324  \n",
      "10714  21.411636  \n",
      "10865  80.725212  \n",
      "11000  40.637268  \n",
      "\n",
      "[222 rows x 6 columns]\n"
     ]
    }
   ],
   "source": [
    "final_combined = write_result(test_df,test_y,prediction)\n",
    "print(final_combined)"
   ]
  },
  {
   "cell_type": "markdown",
   "metadata": {},
   "source": [
    "# Get players"
   ]
  },
  {
   "cell_type": "code",
   "execution_count": 198,
   "metadata": {},
   "outputs": [],
   "source": [
    "def select_players(df):\n",
    "    df = df.sort_values(by=['predicted'],ascending=False)\n",
    "    result = [[] for x in range(4)]\n",
    "    required = [2,5,5,3]\n",
    "    for index,row in df.iterrows():\n",
    "        f_name = row['first_name']\n",
    "        s_name = row['second_name']\n",
    "        pred = row['predicted']\n",
    "        actual = row['actual']\n",
    "        e_index = int(row['element_type'])-1\n",
    "        if(len(result[e_index])<required[e_index]):\n",
    "            item = {}\n",
    "            item['first_name'] =f_name\n",
    "            item['second_name'] =  s_name\n",
    "            item['prediction'] = pred\n",
    "            item['actual'] = actual\n",
    "            #itemp['element_type'] = row['element_type']\n",
    "            \n",
    "            result[e_index].append(item)     \n",
    "    return result\n",
    "\n",
    "def actual_players(df):\n",
    "    df = df.sort_values(by=['actual'],ascending=False)\n",
    "    result = [[] for x in range(4)]\n",
    "    required = [2,5,5,3]\n",
    "    for index,row in df.iterrows():\n",
    "        f_name = row['first_name']\n",
    "        s_name = row['second_name']\n",
    "        pred = row['predicted']\n",
    "        actual = row['actual']\n",
    "        e_index = int(row['element_type'])-1\n",
    "        if(len(result[e_index])<required[e_index]):\n",
    "            item = {}\n",
    "            item['first_name'] =f_name\n",
    "            item['second_name'] =  s_name\n",
    "            item['prediction'] = pred\n",
    "            item['actual'] = actual\n",
    "            #itemp['element_type'] = row['element_type']\n",
    "            \n",
    "            result[e_index].append(item)     \n",
    "    return result\n",
    "def print_result(result):\n",
    "    types = ['Goali','Defender','Mid','Attacker']\n",
    "    for i in range(len(result)):\n",
    "        print('==================SELECTED {}==================='.format(types[i]))\n",
    "        for player in result[i]:\n",
    "            print('{},{}\\t\\t\\t,{},\\t{}\\n'.format(player['first_name'],player['second_name'],player['prediction'],player['actual']))\n",
    "            \n"
   ]
  },
  {
   "cell_type": "code",
   "execution_count": 176,
   "metadata": {},
   "outputs": [],
   "source": [
    "s_list = select_players(final_combined)\n",
    "a_list =  actual_players(final_combined)"
   ]
  },
  {
   "cell_type": "markdown",
   "metadata": {},
   "source": [
    "# Selected by prediction"
   ]
  },
  {
   "cell_type": "code",
   "execution_count": 177,
   "metadata": {},
   "outputs": [
    {
     "name": "stdout",
     "output_type": "stream",
     "text": [
      "==================SELECTED Goali===================\n",
      "Heurelho,Gomes\t\t\t,134.01930236816406,\t157\n",
      "\n",
      "Petr,Cech\t\t\t,130.5564422607422,\t159\n",
      "\n",
      "==================SELECTED Defender===================\n",
      "Leighton,Baines\t\t\t,133.3016357421875,\t67\n",
      "\n",
      "Toby,Alderweireld\t\t\t,112.4158706665039,\t166\n",
      "\n",
      "Gary,Cahill\t\t\t,110.19263458251953,\t53\n",
      "\n",
      "NicolÃ¡s,Otamendi\t\t\t,109.75376892089844,\t104\n",
      "\n",
      "Laurent,Koscielny\t\t\t,108.62327575683594,\t153\n",
      "\n",
      "==================SELECTED Mid===================\n",
      "Riyad,Mahrez\t\t\t,194.32177734375,\t240\n",
      "\n",
      "Mesut,Ãzil\t\t\t,183.43150329589844,\t200\n",
      "\n",
      "Kevin,De Bruyne\t\t\t,175.80723571777344,\t131\n",
      "\n",
      "Alexis,SÃ¡nchez\t\t\t,168.58709716796875,\t167\n",
      "\n",
      "Eden,Hazard\t\t\t,163.53981018066406,\t104\n",
      "\n",
      "==================SELECTED Attacker===================\n",
      "Jamie,Vardy\t\t\t,192.6436004638672,\t211\n",
      "\n",
      "Sergio,AgÃ¼ero\t\t\t,171.1587677001953,\t184\n",
      "\n",
      "Roberto,Firmino\t\t\t,163.55015563964844,\t155\n",
      "\n"
     ]
    }
   ],
   "source": [
    "print_result(s_list)"
   ]
  },
  {
   "cell_type": "markdown",
   "metadata": {},
   "source": [
    "# Actual  Performance"
   ]
  },
  {
   "cell_type": "code",
   "execution_count": 178,
   "metadata": {},
   "outputs": [
    {
     "name": "stdout",
     "output_type": "stream",
     "text": [
      "==================SELECTED Goali===================\n",
      "Petr,Cech\t\t\t,130.5564422607422,\t159\n",
      "\n",
      "Heurelho,Gomes\t\t\t,134.01930236816406,\t157\n",
      "\n",
      "==================SELECTED Defender===================\n",
      "HÃ©ctor,BellerÃ­n\t\t\t,106.08972930908203,\t172\n",
      "\n",
      "Toby,Alderweireld\t\t\t,112.4158706665039,\t166\n",
      "\n",
      "Laurent,Koscielny\t\t\t,108.62327575683594,\t153\n",
      "\n",
      "Nacho,Monreal\t\t\t,106.56748962402344,\t152\n",
      "\n",
      "Christian,Fuchs\t\t\t,106.10931396484375,\t150\n",
      "\n",
      "==================SELECTED Mid===================\n",
      "Riyad,Mahrez\t\t\t,194.32177734375,\t240\n",
      "\n",
      "Mesut,Ãzil\t\t\t,183.43150329589844,\t200\n",
      "\n",
      "Christian,Eriksen\t\t\t,137.55416870117188,\t178\n",
      "\n",
      "Georginio,Wijnaldum\t\t\t,122.26779174804688,\t170\n",
      "\n",
      "Alexis,SÃ¡nchez\t\t\t,168.58709716796875,\t167\n",
      "\n",
      "==================SELECTED Attacker===================\n",
      "Jamie,Vardy\t\t\t,192.6436004638672,\t211\n",
      "\n",
      "Harry,Kane\t\t\t,155.7584991455078,\t211\n",
      "\n",
      "Romelu,Lukaku\t\t\t,146.43580627441406,\t185\n",
      "\n"
     ]
    }
   ],
   "source": [
    "print_result(a_list)"
   ]
  },
  {
   "cell_type": "code",
   "execution_count": 179,
   "metadata": {},
   "outputs": [
    {
     "name": "stdout",
     "output_type": "stream",
     "text": [
      "==================SELECTED Goali===================\n",
      "Heurelho,Gomes\t\t\t,134.01930236816406,\t157\n",
      "\n",
      "Petr,Cech\t\t\t,130.5564422607422,\t159\n",
      "\n",
      "==================SELECTED Defender===================\n",
      "Leighton,Baines\t\t\t,133.3016357421875,\t67\n",
      "\n",
      "Toby,Alderweireld\t\t\t,112.4158706665039,\t166\n",
      "\n",
      "Gary,Cahill\t\t\t,110.19263458251953,\t53\n",
      "\n",
      "NicolÃ¡s,Otamendi\t\t\t,109.75376892089844,\t104\n",
      "\n",
      "Laurent,Koscielny\t\t\t,108.62327575683594,\t153\n",
      "\n",
      "==================SELECTED Mid===================\n",
      "Riyad,Mahrez\t\t\t,194.32177734375,\t240\n",
      "\n",
      "Mesut,Ãzil\t\t\t,183.43150329589844,\t200\n",
      "\n",
      "Kevin,De Bruyne\t\t\t,175.80723571777344,\t131\n",
      "\n",
      "Alexis,SÃ¡nchez\t\t\t,168.58709716796875,\t167\n",
      "\n",
      "Eden,Hazard\t\t\t,163.53981018066406,\t104\n",
      "\n",
      "==================SELECTED Attacker===================\n",
      "Jamie,Vardy\t\t\t,192.6436004638672,\t211\n",
      "\n",
      "Sergio,AgÃ¼ero\t\t\t,171.1587677001953,\t184\n",
      "\n",
      "Roberto,Firmino\t\t\t,163.55015563964844,\t155\n",
      "\n"
     ]
    }
   ],
   "source": [
    "print_result(s_list)"
   ]
  },
  {
   "cell_type": "code",
   "execution_count": 180,
   "metadata": {},
   "outputs": [],
   "source": [
    "def calculate_percentage(a_list,p_list):\n",
    "    a_list = a_list[0]+a_list[1]+a_list[2]+a_list[3]\n",
    "    p_list = p_list[0]+p_list[1]+p_list[2]+p_list[3]\n",
    "    a_set = set()\n",
    "    for player in a_list:\n",
    "        a_set.add(player['first_name']+player['second_name'] )\n",
    "    count = 0\n",
    "    for player in p_list:\n",
    "        if((player['first_name']+player['second_name']) in a_set):\n",
    "           count += 1\n",
    "    return count"
   ]
  },
  {
   "cell_type": "code",
   "execution_count": 181,
   "metadata": {},
   "outputs": [
    {
     "data": {
      "text/plain": [
       "8"
      ]
     },
     "execution_count": 181,
     "metadata": {},
     "output_type": "execute_result"
    }
   ],
   "source": [
    "calculate_percentage(a_list,s_list)"
   ]
  },
  {
   "cell_type": "markdown",
   "metadata": {},
   "source": [
    "# Best parameters selected with grid search"
   ]
  },
  {
   "cell_type": "code",
   "execution_count": 203,
   "metadata": {},
   "outputs": [
    {
     "data": {
      "text/plain": [
       "XGBRegressor(base_score=0.5, booster='gbtree', colsample_bylevel=1,\n",
       "       colsample_bytree=1, gamma=0, learning_rate=0.1, max_delta_step=0,\n",
       "       max_depth=3, min_child_weight=3, missing=None, n_estimators=100,\n",
       "       n_jobs=1, nthread=None, objective='reg:linear', random_state=0,\n",
       "       reg_alpha=0, reg_lambda=1, scale_pos_weight=1, seed=None,\n",
       "       silent=True, subsample=1)"
      ]
     },
     "execution_count": 203,
     "metadata": {},
     "output_type": "execute_result"
    }
   ],
   "source": [
    "clf.best_estimator_"
   ]
  },
  {
   "cell_type": "markdown",
   "metadata": {},
   "source": [
    "# Feature importance"
   ]
  },
  {
   "cell_type": "code",
   "execution_count": 219,
   "metadata": {},
   "outputs": [
    {
     "name": "stdout",
     "output_type": "stream",
     "text": [
      "feature name=start_cost  \t\t importance=0.1380368024110794\n",
      "feature name=end_cost  \t\t importance=0.09815950691699982\n",
      "feature name=element_code  \t\t importance=0.09662576764822006\n",
      "feature name=bps  \t\t importance=0.06441717594861984\n",
      "feature name=team  \t\t importance=0.061349693685770035\n",
      "feature name=minutes  \t\t importance=0.05828220769762993\n",
      "feature name=goals_scored  \t\t importance=0.056748464703559875\n",
      "feature name=clean_sheets  \t\t importance=0.056748464703559875\n",
      "feature name=assists  \t\t importance=0.05521472543478012\n",
      "feature name=saves  \t\t importance=0.05368098244071007\n"
     ]
    }
   ],
   "source": [
    "cols = list(test_x)\n",
    "ft_importance = clf.best_estimator_.feature_importances_\n",
    "imp_index = np.argsort(ft_importance)[::-1]\n",
    "\n",
    "for i in range(10):\n",
    "    index = imp_index[i]\n",
    "    print('feature name={}  \\t\\t importance={}'.format(cols[index],ft_importance[index]))"
   ]
  },
  {
   "cell_type": "code",
   "execution_count": null,
   "metadata": {},
   "outputs": [],
   "source": []
  }
 ],
 "metadata": {
  "kernelspec": {
   "display_name": "Python 3",
   "language": "python",
   "name": "python3"
  },
  "language_info": {
   "codemirror_mode": {
    "name": "ipython",
    "version": 3
   },
   "file_extension": ".py",
   "mimetype": "text/x-python",
   "name": "python",
   "nbconvert_exporter": "python",
   "pygments_lexer": "ipython3",
   "version": "3.6.6"
  }
 },
 "nbformat": 4,
 "nbformat_minor": 2
}
