{
 "cells": [
  {
   "cell_type": "code",
   "execution_count": 1,
   "metadata": {},
   "outputs": [],
   "source": [
    "\n",
    "from sklearn.model_selection import GridSearchCV\n",
    "from xgboost import XGBRegressor\n",
    "from sklearn.model_selection import train_test_split\n",
    "import pandas as pd\n",
    "from sklearn.metrics import mean_squared_error"
   ]
  },
  {
   "cell_type": "code",
   "execution_count": 2,
   "metadata": {},
   "outputs": [],
   "source": [
    "# run xgboost \n",
    "def tree_train(x,y):\n",
    "    parameters = {\"max_depth\":[3,4,5,6,7,8,9], \"min_child_weight\":[1,2,3]}\n",
    "    model = XGBRegressor()\n",
    "    gs = GridSearchCV(model,param_grid=parameters,cv=10)\n",
    "    gs.fit(x,y)\n",
    "    return gs\n",
    "\n",
    "\n",
    "\n"
   ]
  },
  {
   "cell_type": "code",
   "execution_count": 3,
   "metadata": {},
   "outputs": [],
   "source": [
    "def read_data(base_folder='../fpl_data/data',year='2016-17'):\n",
    "    cleaned_file = base_folder+'/'+year+'/cleaned_players.csv'\n",
    "    raw_file = base_folder+'/'+year+'/players_raw.csv'\n",
    "    raw_df = pd.read_csv(raw_file,encoding = \"ISO-8859-1\")\n",
    "    #select limited columns only\n",
    "    raw_df = raw_df[['first_name','second_name','element_type']]\n",
    "    clean_df = pd.read_csv(cleaned_file,encoding = \"ISO-8859-1\")\n",
    "    \n",
    "    full_df = pd.merge(clean_df,raw_df,on=['first_name','second_name'])\n",
    "    return full_df"
   ]
  },
  {
   "cell_type": "code",
   "execution_count": 4,
   "metadata": {},
   "outputs": [],
   "source": [
    "df_2016 = read_data(year='2016-17')\n",
    "df_2017 = read_data(year='2017-18')\n",
    "df_2018 = read_data(year='2018-19')"
   ]
  },
  {
   "cell_type": "code",
   "execution_count": 5,
   "metadata": {},
   "outputs": [
    {
     "data": {
      "text/plain": [
       "['first_name',\n",
       " 'second_name',\n",
       " 'goals_scored',\n",
       " 'assists',\n",
       " 'total_points',\n",
       " 'minutes',\n",
       " 'goals_conceded',\n",
       " 'creativity',\n",
       " 'influence',\n",
       " 'threat',\n",
       " 'bonus',\n",
       " 'bps',\n",
       " 'ict_index',\n",
       " 'clean_sheets',\n",
       " 'red_cards',\n",
       " 'yellow_cards',\n",
       " 'selected_by_percent',\n",
       " 'element_type']"
      ]
     },
     "execution_count": 5,
     "metadata": {},
     "output_type": "execute_result"
    }
   ],
   "source": [
    "list(df_2016)"
   ]
  },
  {
   "cell_type": "markdown",
   "metadata": {},
   "source": [
    "## Merge two year to get the y"
   ]
  },
  {
   "cell_type": "code",
   "execution_count": 6,
   "metadata": {},
   "outputs": [],
   "source": [
    "def merge_df_year(df_1,df_2):\n",
    "    df_2 = df_2[['first_name','second_name','total_points']]\n",
    "    # add column name as total_points_new. This is the y value.\n",
    "    df_2['total_points_next'] = df_2['total_points']\n",
    "    df_2.drop('total_points',axis=1)\n",
    "    \n",
    "    df = pd.merge(df_1,df_2, on =['first_name','second_name'])\n",
    "    return df"
   ]
  },
  {
   "cell_type": "code",
   "execution_count": 7,
   "metadata": {},
   "outputs": [
    {
     "name": "stderr",
     "output_type": "stream",
     "text": [
      "/home/shibin/softwares/anaconda2/envs/aiproject/lib/python3.6/site-packages/ipykernel_launcher.py:4: SettingWithCopyWarning: \n",
      "A value is trying to be set on a copy of a slice from a DataFrame.\n",
      "Try using .loc[row_indexer,col_indexer] = value instead\n",
      "\n",
      "See the caveats in the documentation: http://pandas.pydata.org/pandas-docs/stable/indexing.html#indexing-view-versus-copy\n",
      "  after removing the cwd from sys.path.\n"
     ]
    }
   ],
   "source": [
    "df_2016_17_combined = merge_df_year(df_2016,df_2017)\n",
    "df_2017_18_combined = merge_df_year(df_2017,df_2018)"
   ]
  },
  {
   "cell_type": "code",
   "execution_count": null,
   "metadata": {},
   "outputs": [],
   "source": []
  },
  {
   "cell_type": "markdown",
   "metadata": {},
   "source": [
    "# Create train and test data. Data sample is less"
   ]
  },
  {
   "cell_type": "code",
   "execution_count": 8,
   "metadata": {},
   "outputs": [],
   "source": [
    "def clean_data(x,cols):\n",
    "    unwanted_cols = ['first_name','second_name','total_points_next']\n",
    "    for c in list(x):\n",
    "        if c not in cols:\n",
    "            unwanted_cols.append(c)\n",
    "    return x.drop(unwanted_cols,axis=1)"
   ]
  },
  {
   "cell_type": "code",
   "execution_count": 12,
   "metadata": {},
   "outputs": [],
   "source": [
    "cols = list(df_2016_17_combined)\n",
    "\n",
    "train_y = df_2016_17_combined['total_points_next']\n",
    "train_x = clean_data(df_2016_17_combined,cols)\n",
    "test_y = df_2017_18_combined['total_points_next']\n",
    "test_x = clean_data(df_2017_18_combined,cols)\n",
    "\n",
    "#print(list(train_x))"
   ]
  },
  {
   "cell_type": "code",
   "execution_count": 13,
   "metadata": {},
   "outputs": [
    {
     "name": "stdout",
     "output_type": "stream",
     "text": [
      "['first_name', 'second_name', 'goals_scored', 'assists', 'total_points_x', 'minutes', 'goals_conceded', 'creativity', 'influence', 'threat', 'bonus', 'bps', 'ict_index', 'clean_sheets', 'red_cards', 'yellow_cards', 'selected_by_percent', 'element_type', 'total_points_y', 'total_points_next']\n"
     ]
    }
   ],
   "source": [
    "print(cols)"
   ]
  },
  {
   "cell_type": "markdown",
   "metadata": {},
   "source": [
    "# Run training"
   ]
  },
  {
   "cell_type": "code",
   "execution_count": 14,
   "metadata": {},
   "outputs": [],
   "source": [
    "clf = tree_train(train_x,train_y)"
   ]
  },
  {
   "cell_type": "code",
   "execution_count": 15,
   "metadata": {},
   "outputs": [],
   "source": [
    "prediction = clf.predict(test_x)"
   ]
  },
  {
   "cell_type": "code",
   "execution_count": 16,
   "metadata": {},
   "outputs": [],
   "source": [
    "error = mean_squared_error(prediction,test_y)"
   ]
  },
  {
   "cell_type": "code",
   "execution_count": 17,
   "metadata": {},
   "outputs": [
    {
     "name": "stdout",
     "output_type": "stream",
     "text": [
      "0.06651829669993425\n"
     ]
    }
   ],
   "source": [
    "print(error)"
   ]
  },
  {
   "cell_type": "code",
   "execution_count": 18,
   "metadata": {},
   "outputs": [],
   "source": [
    "def write_result(test_x,test_y,predicted,file='next_year.csv'):\n",
    "    first_name =test_x['first_name']\n",
    "    second_name = test_x['second_name']\n",
    "    df = pd.DataFrame()\n",
    "    df['first_name'] = first_name\n",
    "    df['second_name'] = second_name\n",
    "    df['actual'] = test_y\n",
    "    df['predicted'] = predicted\n",
    "    df['element_type'] = test_x['element_type']\n",
    "    df['diff'] = (df['actual']-df['predicted']).abs()\n",
    "    df.to_csv(file,index=False)\n",
    "    return df\n",
    "    "
   ]
  },
  {
   "cell_type": "code",
   "execution_count": 19,
   "metadata": {},
   "outputs": [],
   "source": [
    "final_combined = write_result(df_2017_18_combined,test_y,prediction)"
   ]
  },
  {
   "cell_type": "markdown",
   "metadata": {},
   "source": [
    "# Get players"
   ]
  },
  {
   "cell_type": "code",
   "execution_count": 39,
   "metadata": {},
   "outputs": [],
   "source": [
    "def select_players(df):\n",
    "    df = df.sort_values(by=['predicted'],ascending=False)\n",
    "    result = [[] for x in range(4)]\n",
    "    required = [2,5,5,3]\n",
    "    for index,row in df.iterrows():\n",
    "        f_name = row['first_name']\n",
    "        s_name = row['second_name']\n",
    "        pred = row['predicted']\n",
    "        actual = row['actual']\n",
    "        e_index = int(row['element_type'])-1\n",
    "        if(len(result[e_index])<required[e_index]):\n",
    "            item = {}\n",
    "            item['first_name'] =f_name\n",
    "            item['second_name'] =  s_name\n",
    "            item['prediction'] = pred\n",
    "            item['actual'] = actual\n",
    "            result[e_index].append(item)\n",
    "            \n",
    "    return result\n",
    "def print_result(result):\n",
    "    types = ['Goali','Defender','Mid','Attacker']\n",
    "    for i in range(len(result)):\n",
    "        print('==================SELECTED {}==================='.format(types[i]))\n",
    "        for player in result[i]:\n",
    "            print('{},{}\\t\\t\\t,{}\\n'.format(player['first_name'],player['second_name'],player['prediction']))"
   ]
  },
  {
   "cell_type": "code",
   "execution_count": 40,
   "metadata": {},
   "outputs": [],
   "source": [
    "s_list = select_players(final_combined)"
   ]
  },
  {
   "cell_type": "code",
   "execution_count": 41,
   "metadata": {},
   "outputs": [
    {
     "name": "stdout",
     "output_type": "stream",
     "text": [
      "==================SELECTED Goali===================\n",
      "Ederson,Santana de Moraes\t\t\t,71.9899673461914\n",
      "\n",
      "Jordan,Pickford\t\t\t,65.28709411621094\n",
      "\n",
      "==================SELECTED Defender===================\n",
      "Marcos,Alonso\t\t\t,93.63746643066406\n",
      "\n",
      "Andrew,Robertson\t\t\t,83.39066314697266\n",
      "\n",
      "Virgil,van Dijk\t\t\t,74.14910125732422\n",
      "\n",
      "Trent,Alexander-Arnold\t\t\t,72.98986053466797\n",
      "\n",
      "Aymeric,Laporte\t\t\t,67.04373931884766\n",
      "\n",
      "==================SELECTED Mid===================\n",
      "Raheem,Sterling\t\t\t,104.21186065673828\n",
      "\n",
      "Eden,Hazard\t\t\t,93.77366638183594\n",
      "\n",
      "Mohamed,Salah\t\t\t,89.39395141601562\n",
      "\n",
      "Ryan,Fraser\t\t\t,86.031005859375\n",
      "\n",
      "Leroy,SanÃ©\t\t\t,80.99491882324219\n",
      "\n",
      "==================SELECTED Attacker===================\n",
      "Pierre-Emerick,Aubameyang\t\t\t,94.02465057373047\n",
      "\n",
      "Callum,Wilson\t\t\t,92.25711059570312\n",
      "\n",
      "Harry,Kane\t\t\t,85.42436981201172\n",
      "\n"
     ]
    }
   ],
   "source": [
    "print_result(s_list)"
   ]
  },
  {
   "cell_type": "code",
   "execution_count": null,
   "metadata": {},
   "outputs": [],
   "source": []
  },
  {
   "cell_type": "code",
   "execution_count": null,
   "metadata": {},
   "outputs": [],
   "source": []
  }
 ],
 "metadata": {
  "kernelspec": {
   "display_name": "Python 3",
   "language": "python",
   "name": "python3"
  },
  "language_info": {
   "codemirror_mode": {
    "name": "ipython",
    "version": 3
   },
   "file_extension": ".py",
   "mimetype": "text/x-python",
   "name": "python",
   "nbconvert_exporter": "python",
   "pygments_lexer": "ipython3",
   "version": "3.6.6"
  }
 },
 "nbformat": 4,
 "nbformat_minor": 2
}
